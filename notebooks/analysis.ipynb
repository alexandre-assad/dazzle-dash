{
 "cells": [
  {
   "cell_type": "markdown",
   "metadata": {},
   "source": [
    "# Exploratory Data Analysis (EDA) of \"Who eats the food we grow?\"\n",
    "\n",
    "First of all, a quick reflex is to check for misssing values\n"
   ]
  },
  {
   "cell_type": "code",
   "execution_count": null,
   "metadata": {},
   "outputs": [],
   "source": [
    "import pandas as pd\n",
    "import numpy as np\n",
    "from typing import TypeVar"
   ]
  },
  {
   "cell_type": "code",
   "execution_count": null,
   "metadata": {},
   "outputs": [],
   "source": [
    "T = TypeVar(\"T\")"
   ]
  },
  {
   "cell_type": "code",
   "execution_count": null,
   "metadata": {},
   "outputs": [],
   "source": [
    "def column_missing_values_summary(\n",
    "    column: pd.DataFrame, column_name: str\n",
    ") -> dict[str, T]:\n",
    "    \"\"\"\n",
    "    Generate a summary of missing values for a specific column in the given DataFrame.\n",
    "    \"\"\"\n",
    "    total_missing = column.isnull().sum()\n",
    "    percentage_missing = (total_missing / len(column)) * 100\n",
    "    return {\n",
    "        \"Column Name\": column_name,\n",
    "        \"Total Missing\": total_missing,\n",
    "        \"Percentage Missing\": percentage_missing,\n",
    "    }\n",
    "\n",
    "\n",
    "def generate_missing_values_summary_dataframe(dataframe):\n",
    "    \"\"\"\n",
    "    Generate a DataFrame summarizing missing values for each column in the given DataFrame.\n",
    "    \"\"\"\n",
    "    result_df = pd.DataFrame(\n",
    "        columns=[\"Column Name\", \"Total Missing\", \"Percentage Missing\"]\n",
    "    )\n",
    "    for column_name, column in dataframe.iteritems():\n",
    "        column_summary = column_missing_values_summary(column, column_name)\n",
    "        result_df = result_df.append(column_summary, ignore_index=True)\n",
    "\n",
    "    return result_df\n",
    "\n",
    "summary_result = generate_missing_values_summary(df)\n",
    "print(summary_result)"
   ]
  }
 ],
 "metadata": {
  "kernelspec": {
   "display_name": ".env",
   "language": "python",
   "name": "python3"
  },
  "language_info": {
   "name": "python",
   "version": "3.10.12"
  },
  "orig_nbformat": 4
 },
 "nbformat": 4,
 "nbformat_minor": 2
}
